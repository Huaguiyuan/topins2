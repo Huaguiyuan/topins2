{
 "cells": [
  {
   "cell_type": "code",
   "execution_count": 1,
   "metadata": {
    "collapsed": false
   },
   "outputs": [
    {
     "name": "stdout",
     "output_type": "stream",
     "text": [
      "Populating the interactive namespace from numpy and matplotlib\n"
     ]
    }
   ],
   "source": [
    "%pylab inline\n",
    "from ipywidgets import interact\n",
    "import scipy.sparse as scsp\n",
    "import scipy.sparse.linalg as scspl\n",
    "from topobp import *"
   ]
  },
  {
   "cell_type": "markdown",
   "metadata": {},
   "source": [
    "# Topological insulators II/02: Proximity, effective p-wave and experiment"
   ]
  },
  {
   "cell_type": "markdown",
   "metadata": {},
   "source": [
    "## Model two site proximity effect"
   ]
  },
  {
   "cell_type": "markdown",
   "metadata": {},
   "source": [
    "1. Build a model Hamiltonian where one site is characterised by an s-wave type superconducting orderparameter $\\Delta$ and another site is coupled to it vie conventional hopping of sterngth $t$ and has onsite energy $\\varepsilon$. \n",
    "2. Calculate the spectrum in Fock space and also via the $\\mathcal{H}$ in the in the case of zero onsite potential and show that for small hoppingsterngth you recover the $t^2/\\Delta$ law.\n",
    "3. Calculate the spectrum for finite $\\varepsilon$ onsite potential on the dot and calculate the average charge on the dot for the lowest 4 levels."
   ]
  },
  {
   "cell_type": "markdown",
   "metadata": {},
   "source": [
    "## Calculate the phase diagram of the Lutchyn wire\n",
    "\n",
    "Following a similar rute as we took for the [HgTe edge](HgTe_edge_proximity.ipynb) investigate the phase diagram and finite size spectrum of the Lutchyn wire. Use the following assumptions \n",
    " - a magnetic field of strength $B$ in the z-direction \n",
    " - a spin dependent hopping $\\alpha$ proportional to $\\sigma_x$\n",
    " - a spin independent hopping $\\gamma$\n",
    " - s-wave superconductivity of strength $\\Delta$\n",
    "\n",
    "1. Calculate the single particle spectrum without superconductivity.\n",
    "2. Calculate the winding and explore the phase diagram of the system.\n",
    "3. Consider arbitrary direction magnetic field in a finite size sample and observe the behaviour of the zero modes."
   ]
  }
 ],
 "metadata": {
  "hide_input": false,
  "kernelspec": {
   "display_name": "Python 3",
   "language": "python",
   "name": "python3"
  },
  "language_info": {
   "codemirror_mode": {
    "name": "ipython",
    "version": 3
   },
   "file_extension": ".py",
   "mimetype": "text/x-python",
   "name": "python",
   "nbconvert_exporter": "python",
   "pygments_lexer": "ipython3",
   "version": "3.4.3"
  },
  "latex_envs": {
   "bibliofile": "biblio.bib",
   "cite_by": "apalike",
   "current_citInitial": 1,
   "eqLabelWithNumbers": true,
   "eqNumInitial": 0
  }
 },
 "nbformat": 4,
 "nbformat_minor": 0
}
