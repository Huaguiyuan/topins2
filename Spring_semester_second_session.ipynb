{
 "cells": [
  {
   "cell_type": "code",
   "execution_count": 1,
   "metadata": {
    "collapsed": false
   },
   "outputs": [
    {
     "name": "stdout",
     "output_type": "stream",
     "text": [
      "Populating the interactive namespace from numpy and matplotlib\n"
     ]
    }
   ],
   "source": [
    "%pylab inline\n",
    "from ipywidgets import interact\n",
    "import scipy.sparse as scsp\n",
    "import scipy.sparse.linalg as scspl\n",
    "import topobp"
   ]
  },
  {
   "cell_type": "markdown",
   "metadata": {},
   "source": [
    "# Topological insulators II/02: Majorana fermions and brading"
   ]
  },
  {
   "cell_type": "markdown",
   "metadata": {},
   "source": [
    "**Task:** Berry-phase calculation for four-site y-turn braiding.\n",
    "\n",
    "1. define the functions that govern the braiding protocol\n",
    "2. construct the c operators\n",
    "3. construct the projectors on the even and odd subspaces\n",
    "4. set the initial value of the even and odd projector products as the identity matrix\n",
    "5. loop for time points\n",
    "    - construct H\n",
    "    - find lowest-energy eigenvectors of H\n",
    "    - construct the two-dimensional ground-state projector of H\n",
    "    - construct the projectors of the even and odd ground states\n",
    "    - update the projector product\n",
    "6. take $\\mathrm{arg}(\\mathrm{Tr}[\\dots])$ of the even and odd projector product to obtain the Berry-phases\n",
    "\n",
    "*Hint:* You can use predifined functions in `topobp.py`"
   ]
  }
 ],
 "metadata": {
  "hide_input": false,
  "kernelspec": {
   "display_name": "Python 3",
   "language": "python",
   "name": "python3"
  },
  "language_info": {
   "codemirror_mode": {
    "name": "ipython",
    "version": 3
   },
   "file_extension": ".py",
   "mimetype": "text/x-python",
   "name": "python",
   "nbconvert_exporter": "python",
   "pygments_lexer": "ipython3",
   "version": "3.4.3"
  },
  "latex_envs": {
   "bibliofile": "biblio.bib",
   "cite_by": "apalike",
   "current_citInitial": 1,
   "eqLabelWithNumbers": true,
   "eqNumInitial": 0
  }
 },
 "nbformat": 4,
 "nbformat_minor": 0
}
