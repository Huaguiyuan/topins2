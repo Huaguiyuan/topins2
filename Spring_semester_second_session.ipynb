{
 "cells": [
  {
   "cell_type": "code",
   "execution_count": 1,
   "metadata": {
    "collapsed": false
   },
   "outputs": [
    {
     "name": "stdout",
     "output_type": "stream",
     "text": [
      "Populating the interactive namespace from numpy and matplotlib\n"
     ]
    }
   ],
   "source": [
    "%pylab inline\n",
    "from ipywidgets import interact\n",
    "import scipy.sparse as scsp\n",
    "import scipy.sparse.linalg as scspl\n",
    "from topobp import *"
   ]
  },
  {
   "cell_type": "markdown",
   "metadata": {},
   "source": [
    "# Topological insulators II/02: Majorana fermions and brading"
   ]
  },
  {
   "cell_type": "markdown",
   "metadata": {},
   "source": [
    "**Task:** Berry-phase calculation for four-site y-turn braiding.\n",
    "\n",
    "Some helper functions you may use for the braiding protocol:"
   ]
  },
  {
   "cell_type": "code",
   "execution_count": 2,
   "metadata": {
    "collapsed": true
   },
   "outputs": [],
   "source": [
    "def fOn(t,n):\n",
    "    '''\n",
    "    A piecewise function ...\n",
    "    '''\n",
    "    return ( 1*((t>=n)&(t<n+1)) + 0*((t<n)&(t>=n+1))); \n",
    "\n",
    "def fSwitchOn(t,n):\n",
    "    return (t-n)*fOn(t,n);\n",
    "\n",
    "def fSwitchOff(t,n):\n",
    "    return fOn(t,n)*(1-fSwitchOn(t,n));"
   ]
  },
  {
   "cell_type": "markdown",
   "metadata": {},
   "source": [
    "Let us explore them graphically"
   ]
  },
  {
   "cell_type": "code",
   "execution_count": 3,
   "metadata": {
    "collapsed": false
   },
   "outputs": [
    {
     "data": {
      "image/png": "[encoded data removed]",
      "text/plain": [
       "<matplotlib.figure.Figure at 0x7f0a44754ac8>"
      ]
     },
     "metadata": {},
     "output_type": "display_data"
    }
   ],
   "source": [
    "tvec = linspace(0,6,600)\n",
    "fOn(tvec,1)\n",
    "plot(tvec,fOn(tvec,1), label='square pulse',lw=2)\n",
    "plot(tvec,fSwitchOn(tvec,2),label='switch on',lw=2)\n",
    "plot(tvec,fSwitchOff(tvec,3),label='switch off',lw=2)\n",
    "ylim(0,1.5)\n",
    "grid()\n",
    "legend();\n"
   ]
  },
  {
   "cell_type": "markdown",
   "metadata": {},
   "source": [
    "*Hint:* You can use predifined functions in `topobp.py`"
   ]
  },
  {
   "cell_type": "markdown",
   "metadata": {},
   "source": [
    "First let us define four fermionic annihilation $\\hat{c}_i$ operators:"
   ]
  },
  {
   "cell_type": "code",
   "execution_count": 4,
   "metadata": {
    "collapsed": true
   },
   "outputs": [],
   "source": [
    "# construct the c operators; Nsp stands for the number of single-particle states, \n",
    "# that is 4 for our 4-site T-junction\n",
    "Nsp = 4;\n",
    "c = fermion_Fock_matrices(Nsp,dense=True);"
   ]
  },
  {
   "cell_type": "markdown",
   "metadata": {},
   "source": [
    "Then the projectors for the even and odd fermion number subspaces:"
   ]
  },
  {
   "cell_type": "code",
   "execution_count": 5,
   "metadata": {
    "collapsed": true
   },
   "outputs": [],
   "source": [
    "# construct the projectors on the even and odd subpsaces\n",
    "PEven , POdd =  even_odd_Fock_operators(Nsp,dense=True)\n",
    "#Identity matrix \n",
    "IdentityMatrix=PEven+POdd"
   ]
  },
  {
   "cell_type": "markdown",
   "metadata": {},
   "source": [
    "We shall also nead the functions that describe how different hopping and pairing amplitudes change as we vary time:"
   ]
  },
  {
   "cell_type": "code",
   "execution_count": 6,
   "metadata": {
    "collapsed": true
   },
   "outputs": [],
   "source": [
    "# define the functions that govern the braiding protocol\n",
    "def ft23(t):\n",
    "    return fSwitchOff(t,0) + fSwitchOn(t,3) + fOn(t,4) + fOn(t,5);           \n",
    "def ft34(t): \n",
    "    return fOn(t, 0) + fOn(t, 1) + fSwitchOff(t, 2) + fSwitchOn(t, 5);\n",
    "def ft13(t): \n",
    "    return fSwitchOn(t, 1) + fOn(t, 2) + fOn(t, 3) + fSwitchOff(t, 4);"
   ]
  },
  {
   "cell_type": "markdown",
   "metadata": {},
   "source": [
    "Once we have the $\\hat{c}_i$ operators we can build up a parameter dependent Hamiltonian that performs the braiding:"
   ]
  },
  {
   "cell_type": "code",
   "execution_count": 7,
   "metadata": {
    "collapsed": true
   },
   "outputs": [],
   "source": [
    "# construct the adiabatic Fock space Hamiltonian for the braiding procedure\n",
    "def Braid_Fock_Ham(t):\n",
    "    ham=ft23(t)*(c[1].H*c[2] + c[2].H*c[1] + c[1].H*c[2].H + c[2]*c[1]) +\\\n",
    "        ft34(t)*(c[2].H*c[3] + c[3].H*c[2] + c[2].H*c[3].H + c[3]*c[2]) +\\\n",
    "        ft13(t)*(c[0].H*c[2] + c[2].H*c[0] + 1.0j*c[0].H*c[2].H - 1.0j*c[2]*c[0]) +\\\n",
    "        (1-ft23(t))*c[1].H*c[1]+(1-ft34(t))*c[3].H*c[3]+(1-ft13(t))*c[0].H*c[0];\n",
    "    return ham"
   ]
  },
  {
   "cell_type": "markdown",
   "metadata": {},
   "source": [
    "Now we are ready to perform the braiding. Below we write a simple for loop and calculate the Berry's phase for the even and odd parity groundstate:"
   ]
  },
  {
   "cell_type": "code",
   "execution_count": 8,
   "metadata": {
    "collapsed": false
   },
   "outputs": [],
   "source": [
    "# loop for time points\n",
    "# set the initial value of the even and odd projector products as the identity matrix\n",
    "ProjectorProductEven = IdentityMatrix;\n",
    "ProjectorProductOdd = IdentityMatrix;\n",
    "taumin = 0.0;\n",
    "taumax = 6.0;\n",
    "taunum=300;\n",
    "tran=linspace(taumin,taumax,taunum,endpoint=False)\n",
    "for t in tran:\n",
    "    [val,vec]=eigh(Braid_Fock_Ham(t))\n",
    "    GSProjector=vec[:,0]*vec[:,0].H+vec[:,1]*vec[:,1].H\n",
    "    ## construct the projectors of the even and odd ground states and update the projector product\n",
    "    ProjectorProductEven = ProjectorProductEven*(PEven*GSProjector*PEven)\n",
    "    ProjectorProductOdd = ProjectorProductOdd*(POdd*GSProjector*POdd)\n",
    "\n",
    "# end of loop for time points"
   ]
  },
  {
   "cell_type": "markdown",
   "metadata": {},
   "source": [
    "Finally we can check the values of the two calculated Berry's phases:"
   ]
  },
  {
   "cell_type": "code",
   "execution_count": 12,
   "metadata": {
    "collapsed": false
   },
   "outputs": [
    {
     "name": "stdout",
     "output_type": "stream",
     "text": [
      "Berry's phase for the even subspace: 0.785398163397\n",
      "Berry's phase for the odd subspace: -0.785398163397\n",
      "Numeeric value of $\\pi/4$ 0.7853981633974483\n"
     ]
    }
   ],
   "source": [
    "print(r\"Berry's phase for the even subspace:\",angle(ProjectorProductEven.trace()[0,0]))\n",
    "print(r\"Berry's phase for the odd subspace:\",angle(ProjectorProductOdd.trace()[0,0]))\n",
    "print(r'Numeeric value of $\\pi/4$',pi/4)"
   ]
  }
 ],
 "metadata": {
  "hide_input": false,
  "kernelspec": {
   "display_name": "Python 3",
   "language": "python",
   "name": "python3"
  },
  "language_info": {
   "codemirror_mode": {
    "name": "ipython",
    "version": 3
   },
   "file_extension": ".py",
   "mimetype": "text/x-python",
   "name": "python",
   "nbconvert_exporter": "python",
   "pygments_lexer": "ipython3",
   "version": "3.4.3"
  },
  "latex_envs": {
   "bibliofile": "biblio.bib",
   "cite_by": "apalike",
   "current_citInitial": 1,
   "eqLabelWithNumbers": true,
   "eqNumInitial": 0
  }
 },
 "nbformat": 4,
 "nbformat_minor": 0
}
